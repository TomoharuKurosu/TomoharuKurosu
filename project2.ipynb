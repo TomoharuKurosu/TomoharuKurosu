{
  "cells": [
    {
      "cell_type": "markdown",
      "metadata": {
        "id": "view-in-github",
        "colab_type": "text"
      },
      "source": [
        "<a href=\"https://colab.research.google.com/github/TomoharuKurosu/TomoharuKurosu/blob/main/project2.ipynb\" target=\"_parent\"><img src=\"https://colab.research.google.com/assets/colab-badge.svg\" alt=\"Open In Colab\"/></a>"
      ]
    },
    {
      "cell_type": "code",
      "execution_count": 6,
      "metadata": {
        "colab": {
          "base_uri": "https://localhost:8080/"
        },
        "id": "7xY0PSws21Ex",
        "outputId": "a135ce79-66ed-4ae5-b4e2-321b0aa3756d"
      },
      "outputs": [
        {
          "output_type": "stream",
          "name": "stdout",
          "text": [
            "             Growth Rate  TFP Growth  Capital Deepening  TFP Share  \\\n",
            "countrycode                                                          \n",
            "CAN             0.887700    0.648264           1.835712   0.653810   \n",
            "DEU             0.661055    0.556886           1.198290   0.629270   \n",
            "FRA             0.829236    0.207893           1.491602   0.618806   \n",
            "GBR             1.015544   -0.267172           1.379846   0.587007   \n",
            "ITA            -0.037181   -0.520106           1.103655   0.515165   \n",
            "JPN             0.710956    0.725321           1.506205   0.569399   \n",
            "USA             1.536985    0.961097           2.014710   0.606740   \n",
            "\n",
            "             Capital Share  \n",
            "countrycode                 \n",
            "CAN               0.346190  \n",
            "DEU               0.370730  \n",
            "FRA               0.381194  \n",
            "GBR               0.412993  \n",
            "ITA               0.484835  \n",
            "JPN               0.430601  \n",
            "USA               0.393260  \n"
          ]
        }
      ],
      "source": [
        "import pandas as pd\n",
        "import numpy as np\n",
        "\n",
        "\n",
        "# Load data\n",
        "pwt90 = pd.read_stata('https://www.rug.nl/ggdc/docs/pwt90.dta')\n",
        "pwt1001 = pd.read_stata('https://dataverse.nl/api/access/datafile/354098')\n",
        "\n",
        "# Filter and select relevant columns\n",
        "data = pwt1001.loc[pwt1001['country'].isin([\"France\", \"Germany\", \"Canada\", \"Italy\", \"Japan\", \"United Kingdom\", \"United States\"])][['year', 'countrycode', 'rgdpna', 'rkna', 'emp', 'labsh','rtfpna']]\n",
        "data = data.loc[(data['year'] >= 1995) & (data['year'] <= 2019)].dropna()\n",
        "\n",
        "# Calculate additional columns\n",
        "data['y_pc'] = np.log(data['rgdpna'] / data['emp'])  # GDP per worker\n",
        "data['k_pc'] = np.log(data['rkna'] / data['emp'])  # Capital per worker\n",
        "data['Capital Share'] = 1 - data['labsh']  # Capital share\n",
        "data['A'] = data['y_pc'] - data['k_pc']*data['Capital Share']\n",
        "data['TFP Share'] = data['labsh']\n",
        "# Order by year\n",
        "data = data.sort_values('year')\n",
        "\n",
        "# Group by isocode\n",
        "grouped_data = data.groupby('countrycode')\n",
        "\n",
        "# Calculate growth rates and Solow residual\n",
        "data['Growth Rate'] = (grouped_data['y_pc'].diff() * 100)  # Growth rate of GDP per capita\n",
        "data['Capital Deepening'] = (grouped_data['k_pc'].diff() * 100)  \n",
        "data['TFP Growth'] = (grouped_data['A'].diff() * 100)  \n",
        "\n",
        "\n",
        "# Remove missing values\n",
        "data = data.dropna()\n",
        "\n",
        "# Calculate summary statistics\n",
        "summary = data.groupby('countrycode').agg({'Growth Rate': 'mean',\n",
        "                                            'TFP Growth': 'mean',\n",
        "                                           'Capital Deepening': 'mean',\n",
        "                                           'TFP Share': 'mean',\n",
        "                                       'Capital Share': \"mean\"}\n",
        "                                       )\n",
        "\n",
        "# Print output\n",
        "print(summary)"
      ]
    }
  ],
  "metadata": {
    "colab": {
      "provenance": [],
      "include_colab_link": true
    },
    "kernelspec": {
      "display_name": "Python 3",
      "name": "python3"
    },
    "language_info": {
      "name": "python"
    }
  },
  "nbformat": 4,
  "nbformat_minor": 0
}