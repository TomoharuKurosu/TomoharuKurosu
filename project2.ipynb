{
  "cells": [
    {
      "cell_type": "markdown",
      "metadata": {
        "id": "view-in-github",
        "colab_type": "text"
      },
      "source": [
        "<a href=\"https://colab.research.google.com/github/TomoharuKurosu/TomoharuKurosu/blob/main/project2.ipynb\" target=\"_parent\"><img src=\"https://colab.research.google.com/assets/colab-badge.svg\" alt=\"Open In Colab\"/></a>"
      ]
    },
    {
      "cell_type": "code",
      "source": [],
      "metadata": {
        "id": "HqxA00o-Rw-v"
      },
      "execution_count": null,
      "outputs": []
    },
    {
      "cell_type": "code",
      "execution_count": 14,
      "metadata": {
        "colab": {
          "base_uri": "https://localhost:8080/"
        },
        "id": "7xY0PSws21Ex",
        "outputId": "0547a48e-e88f-46ee-d8fc-4b26b8ca5b43"
      },
      "outputs": [
        {
          "output_type": "stream",
          "name": "stdout",
          "text": [
            "             Growth Rate  TFP Growth  Capital Deepening  TFP Share  \\\n",
            "countrycode                                                          \n",
            "CAN             1.706878    1.317239           0.389639   0.653810   \n",
            "DEU             1.205051    0.718610           0.486443   0.629270   \n",
            "FRA             1.070213    0.747426           0.322786   0.618806   \n",
            "GBR             0.829919    0.962873          -0.132953   0.587007   \n",
            "ITA             0.300761   -0.232573           0.533335   0.515165   \n",
            "JPN             1.388959    0.187755           1.201205   0.569399   \n",
            "USA             2.108495    1.292364           0.816137   0.606740   \n",
            "\n",
            "             Capital Share  \n",
            "countrycode                 \n",
            "CAN               0.346190  \n",
            "DEU               0.370730  \n",
            "FRA               0.381194  \n",
            "GBR               0.412993  \n",
            "ITA               0.484835  \n",
            "JPN               0.430601  \n",
            "USA               0.393260  \n"
          ]
        }
      ],
      "source": [
        "import pandas as pd\n",
        "import numpy as np\n",
        "\n",
        "\n",
        "# Load data\n",
        "pwt90 = pd.read_stata('https://www.rug.nl/ggdc/docs/pwt90.dta')\n",
        "pwt1001 = pd.read_stata('https://dataverse.nl/api/access/datafile/354098')\n",
        "\n",
        "# Filter and select relevant columns\n",
        "data = pwt1001.loc[pwt1001['country'].isin([\"France\", \"Germany\", \"Canada\", \"Italy\", \"Japan\", \"United Kingdom\", \"United States\"])][['year', 'countrycode', 'rgdpna', 'rkna', 'emp', 'labsh','rtfpna']]\n",
        "data = data.loc[(data['year'] >= 1995) & (data['year'] <= 2019)].dropna()\n",
        "\n",
        "# Calculate additional columns\n",
        "data['Capital Share'] = 1 - data['labsh']  # Capital share\n",
        "data['TFP Share'] = data['labsh']\n",
        "data['y_pc'] = np.log(data['rgdpna'] / (data['emp']**data['labsh']))  # GDP per worker\n",
        "data['k_pc'] = np.log((data['rkna']**data['Capital Share'])/ (data['emp']**data['labsh']))  # Capital per worker\n",
        "data['A'] = data['y_pc'] - data['k_pc']\n",
        "\n",
        "# Order by year\n",
        "data = data.sort_values('year')\n",
        "\n",
        "# Group by isocode\n",
        "grouped_data = data.groupby('countrycode')\n",
        "\n",
        "# Calculate growth rates and Solow residual\n",
        "data['Growth Rate'] = (grouped_data['y_pc'].diff() * 100)  # Growth rate of GDP per capita\n",
        "data['Capital Deepening'] = (grouped_data['k_pc'].diff() * 100)  \n",
        "data['TFP Growth'] = (grouped_data['A'].diff() * 100)  \n",
        "\n",
        "\n",
        "# Remove missing values\n",
        "data = data.dropna()\n",
        "\n",
        "# Calculate summary statistics\n",
        "summary = data.groupby('countrycode').agg({'Growth Rate': 'mean',\n",
        "                                            'TFP Growth': 'mean',\n",
        "                                           'Capital Deepening': 'mean',\n",
        "                                           'TFP Share': 'mean',\n",
        "                                       'Capital Share': \"mean\"}\n",
        "                                       )\n",
        "\n",
        "# Print output\n",
        "print(summary)"
      ]
    }
  ],
  "metadata": {
    "colab": {
      "provenance": [],
      "include_colab_link": true
    },
    "kernelspec": {
      "display_name": "Python 3",
      "name": "python3"
    },
    "language_info": {
      "name": "python"
    }
  },
  "nbformat": 4,
  "nbformat_minor": 0
}