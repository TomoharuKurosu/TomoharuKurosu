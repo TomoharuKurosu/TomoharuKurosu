{
  "nbformat": 4,
  "nbformat_minor": 0,
  "metadata": {
    "colab": {
      "provenance": [],
      "authorship_tag": "ABX9TyOGgXTgOTAJRFdhWJtY5SZj",
      "include_colab_link": true
    },
    "kernelspec": {
      "name": "python3",
      "display_name": "Python 3"
    },
    "language_info": {
      "name": "python"
    }
  },
  "cells": [
    {
      "cell_type": "markdown",
      "metadata": {
        "id": "view-in-github",
        "colab_type": "text"
      },
      "source": [
        "<a href=\"https://colab.research.google.com/github/TomoharuKurosu/TomoharuKurosu/blob/main/Matsuda_project1.ipynb\" target=\"_parent\"><img src=\"https://colab.research.google.com/assets/colab-badge.svg\" alt=\"Open In Colab\"/></a>"
      ]
    },
    {
      "cell_type": "code",
      "execution_count": 1,
      "metadata": {
        "id": "OSkLSqwafrc4",
        "outputId": "31258846-3d91-4e6e-f427-9f1ba8e8024a",
        "colab": {
          "base_uri": "https://localhost:8080/",
          "height": 137
        }
      },
      "outputs": [
        {
          "output_type": "error",
          "ename": "SyntaxError",
          "evalue": "ignored",
          "traceback": [
            "\u001b[0;36m  File \u001b[0;32m\"<ipython-input-1-c88f46a92e77>\"\u001b[0;36m, line \u001b[0;32m1\u001b[0m\n\u001b[0;31m    \"h1\"=stdd(ln(h))*(-1)\u001b[0m\n\u001b[0m    ^\u001b[0m\n\u001b[0;31mSyntaxError\u001b[0m\u001b[0;31m:\u001b[0m cannot assign to literal here. Maybe you meant '==' instead of '='?\n"
          ]
        }
      ],
      "source": [
        "\"h1\"=stdd(ln(h))*(-1)\n",
        "\"h2\"=stdd(ln(h))/(-2)\n",
        "\"h3\"=0\n",
        "\"h4\"=stdd(ln(h))/2\n",
        "\"h5\"=stdd(ln(h))\n",
        "\"d12\"=\"h1\"-\"h2\"\n",
        "\"d23\"=\"h2\"-\"h3\"\n",
        "\"d34\"=\"h3\"-\"h4\"\n",
        "\"d45\"=\"h4\"-\"h5\"\n",
        "\"h\"=[\"h1\",\"h2\",\"h3\",\"h4\",\"h5\"]\n",
        "#ここまで黒須\n",
        "#ここから授業\n",
        "import numpy as\n",
        "\n",
        "transition_matrix = np.zeros((n, n))\n",
        "\n",
        "\n",
        "\n",
        "\n"
      ]
    },
    {
      "cell_type": "code",
      "source": [],
      "metadata": {
        "id": "f6KUuVIvfwrp"
      },
      "execution_count": null,
      "outputs": []
    }
  ]
}