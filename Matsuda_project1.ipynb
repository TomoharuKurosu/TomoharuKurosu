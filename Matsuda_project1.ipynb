{
  "nbformat": 4,
  "nbformat_minor": 0,
  "metadata": {
    "colab": {
      "provenance": [],
      "authorship_tag": "ABX9TyPzQvA/TecNOyUgEvdnSbq7",
      "include_colab_link": true
    },
    "kernelspec": {
      "name": "python3",
      "display_name": "Python 3"
    },
    "language_info": {
      "name": "python"
    }
  },
  "cells": [
    {
      "cell_type": "markdown",
      "metadata": {
        "id": "view-in-github",
        "colab_type": "text"
      },
      "source": [
        "<a href=\"https://colab.research.google.com/github/TomoharuKurosu/TomoharuKurosu/blob/main/Matsuda_project1.ipynb\" target=\"_parent\"><img src=\"https://colab.research.google.com/assets/colab-badge.svg\" alt=\"Open In Colab\"/></a>"
      ]
    },
    {
      "cell_type": "code",
      "execution_count": null,
      "metadata": {
        "id": "OSkLSqwafrc4",
        "outputId": "31258846-3d91-4e6e-f427-9f1ba8e8024a",
        "colab": {
          "base_uri": "https://localhost:8080/",
          "height": 137
        }
      },
      "outputs": [
        {
          "output_type": "error",
          "ename": "SyntaxError",
          "evalue": "ignored",
          "traceback": [
            "\u001b[0;36m  File \u001b[0;32m\"<ipython-input-1-c88f46a92e77>\"\u001b[0;36m, line \u001b[0;32m1\u001b[0m\n\u001b[0;31m    \"h1\"=stdd(ln(h))*(-1)\u001b[0m\n\u001b[0m    ^\u001b[0m\n\u001b[0;31mSyntaxError\u001b[0m\u001b[0;31m:\u001b[0m cannot assign to literal here. Maybe you meant '==' instead of '='?\n"
          ]
        }
      ],
      "source": [
        "\"h1\"=stdd(ln(h))*(-1)\n",
        "\"h2\"=stdd(ln(h))/(-2)\n",
        "\"h3\"=0\n",
        "\"h4\"=stdd(ln(h))/2\n",
        "\"h5\"=stdd(ln(h))\n",
        "\"d12\"=\"h1\"-\"h2\"\n",
        "\"d23\"=\"h2\"-\"h3\"\n",
        "\"d34\"=\"h3\"-\"h4\"\n",
        "\"d45\"=\"h4\"-\"h5\"\n",
        "\"h\"=[\"h1\",\"h2\",\"h3\",\"h4\",\"h5\"]\n",
        "#ここまで黒須\n",
        "#ここから授業\n",
        "mport numpy as np\n",
        "from scipy.stats import norm\n",
        "\n",
        "def tauchen(n, mu, rho, sigma):\n",
        "\n",
        "    m = 1.0 / np.sqrt(1.0-rho**2)\n",
        "\n",
        "    state_space = np.linspace(mu-m*sigma, mu+m*sigma, n)\n",
        "\n",
        "    d = (state_space[n-1] - state_space[0]) / (n-1)\n",
        "\n",
        "\n",
        "    transition_matrix = np.zeros((n, n))\n",
        "\n",
        "    for i in range(n):\n",
        "        for j in range(n):\n",
        "            if j == 0:\n",
        "                transition_matrix[i, j] = norm.cdf((state_space[j] + d/2 - rho*state_space[i])/sigma)\n",
        "            elif j == n-1:\n",
        "                transition_matrix[i, j] = 1 - norm.cdf((state_space[j] - d/2 - rho*state_space[i])/sigma)\n",
        "            else:\n",
        "                z_high = (state_space[j] - rho*state_space[i] + d/2) / sigma\n",
        "                z_low = (state_space[j] - rho*state_space[i] - d/2) / sigma\n",
        "                transition_matrix[i, j] = norm.cdf(z_high) - norm.cdf(z_low)\n",
        "\n",
        "    return transition_matrix, state_space\n",
        "\n",
        "\n"
      ]
    },
    {
      "cell_type": "code",
      "source": [],
      "metadata": {
        "id": "f6KUuVIvfwrp"
      },
      "execution_count": null,
      "outputs": []
    }
  ]
}