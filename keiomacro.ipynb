{
  "nbformat": 4,
  "nbformat_minor": 0,
  "metadata": {
    "colab": {
      "provenance": [],
      "authorship_tag": "ABX9TyNvQEHKeTov7Z+uHc7VZqEN",
      "include_colab_link": true
    },
    "kernelspec": {
      "name": "python3",
      "display_name": "Python 3"
    },
    "language_info": {
      "name": "python"
    }
  },
  "cells": [
    {
      "cell_type": "markdown",
      "metadata": {
        "id": "view-in-github",
        "colab_type": "text"
      },
      "source": [
        "<a href=\"https://colab.research.google.com/github/TomoharuKurosu/TomoharuKurosu/blob/main/keiomacro.ipynb\" target=\"_parent\"><img src=\"https://colab.research.google.com/assets/colab-badge.svg\" alt=\"Open In Colab\"/></a>"
      ]
    },
    {
      "cell_type": "code",
      "execution_count": 2,
      "metadata": {
        "id": "JcJ6alRJnekX",
        "outputId": "486b100c-a54b-4809-a4b2-40f7722cfcbc",
        "colab": {
          "base_uri": "https://localhost:8080/",
          "height": 208
        }
      },
      "outputs": [
        {
          "output_type": "error",
          "ename": "NameError",
          "evalue": "ignored",
          "traceback": [
            "\u001b[0;31m---------------------------------------------------------------------------\u001b[0m",
            "\u001b[0;31mNameError\u001b[0m                                 Traceback (most recent call last)",
            "\u001b[0;32m<ipython-input-2-1406f300974f>\u001b[0m in \u001b[0;36m<cell line: 8>\u001b[0;34m()\u001b[0m\n\u001b[1;32m      6\u001b[0m \u001b[0mtransition_matrix\u001b[0m \u001b[0;34m=\u001b[0m \u001b[0mnp\u001b[0m\u001b[0;34m.\u001b[0m\u001b[0mzeros\u001b[0m\u001b[0;34m(\u001b[0m\u001b[0;34m(\u001b[0m\u001b[0mn\u001b[0m\u001b[0;34m,\u001b[0m \u001b[0mn\u001b[0m\u001b[0;34m)\u001b[0m\u001b[0;34m)\u001b[0m\u001b[0;34m\u001b[0m\u001b[0;34m\u001b[0m\u001b[0m\n\u001b[1;32m      7\u001b[0m \u001b[0;34m\u001b[0m\u001b[0m\n\u001b[0;32m----> 8\u001b[0;31m \u001b[0mtransition_matrix\u001b[0m\u001b[0;34m[\u001b[0m\u001b[0;36m0\u001b[0m\u001b[0;34m,\u001b[0m \u001b[0;36m0\u001b[0m\u001b[0;34m]\u001b[0m \u001b[0;34m=\u001b[0m \u001b[0mnorm\u001b[0m\u001b[0;34m.\u001b[0m\u001b[0mcdf\u001b[0m\u001b[0;34m\u001b[0m\u001b[0;34m\u001b[0m\u001b[0m\n\u001b[0m",
            "\u001b[0;31mNameError\u001b[0m: name 'norm' is not defined"
          ]
        }
      ],
      "source": [
        "#授業\n",
        "import numpy as np\n",
        "from scipy.stats import norm\n",
        "\n",
        "n = 5\n",
        "sigma = 0.1\n",
        "mu = 0.5\n",
        "rho = 0.9\n",
        "\n",
        "state_space = np.linspace(mu-sigma, mu+sigma, n)\n",
        "\n",
        "d = (state_space[n-1] - state_space[0]) / (n-1)\n",
        "\n",
        "\n",
        "transition_matrix = np.zeros((n, n))\n",
        "\n",
        "transition_matrix[0, 0] = norm.cdf((state_space[0] + d/2 - rho*state_space[0])/sigma)\n",
        "\n",
        "z_high = (state_space[j] - rho*state_space[0] + d/2) / sigma\n",
        "z_low = (state_space[j] - rho*state_space[0] - d/2) / sigma\n",
        "transition_matrix[0, j] = norm.cdf(z_high) - norm.cdf(z_low)"
      ]
    }
  ]
}