{
  "nbformat": 4,
  "nbformat_minor": 0,
  "metadata": {
    "colab": {
      "provenance": [],
      "authorship_tag": "ABX9TyP1DYFjCpD8FkMXGhgy98zO",
      "include_colab_link": true
    },
    "kernelspec": {
      "name": "python3",
      "display_name": "Python 3"
    },
    "language_info": {
      "name": "python"
    }
  },
  "cells": [
    {
      "cell_type": "markdown",
      "metadata": {
        "id": "view-in-github",
        "colab_type": "text"
      },
      "source": [
        "<a href=\"https://colab.research.google.com/github/TomoharuKurosu/TomoharuKurosu/blob/main/keiomacro.ipynb\" target=\"_parent\"><img src=\"https://colab.research.google.com/assets/colab-badge.svg\" alt=\"Open In Colab\"/></a>"
      ]
    },
    {
      "cell_type": "code",
      "source": [],
      "metadata": {
        "id": "_qK20IHNjpqp"
      },
      "execution_count": null,
      "outputs": []
    },
    {
      "cell_type": "code",
      "source": [],
      "metadata": {
        "id": "8qtwNeP7jpfu"
      },
      "execution_count": null,
      "outputs": []
    },
    {
      "cell_type": "code",
      "execution_count": 5,
      "metadata": {
        "id": "JcJ6alRJnekX"
      },
      "outputs": [],
      "source": [
        "#授業\n",
        "import numpy as np\n",
        "from scipy.stats import norm\n",
        "\n",
        "def tauchen(n, mu, rho, sigma):\n",
        "\n",
        "    m = 1.0 / np.sqrt(1.0-rho**2)\n",
        "\n",
        "    state_space = np.linspace(mu-m*sigma, mu+m*sigma, n)\n",
        "\n",
        "    d = (state_space[n-1] - state_space[0]) / (n-1)\n",
        "\n",
        "\n",
        "    transition_matrix = np.zeros((n, n))\n",
        "\n",
        "    for i in range(n):\n",
        "        for j in range(n):\n",
        "            if j == 0:\n",
        "                transition_matrix[i, j] = norm.cdf((state_space[j] + d/2 - rho*state_space[i])/sigma)\n",
        "            elif j == n-1:\n",
        "                transition_matrix[i, j] = 1 - norm.cdf((state_space[j] - d/2 - rho*state_space[i])/sigma)\n",
        "            else:\n",
        "                z_high = (state_space[j] - rho*state_space[i] + d/2) / sigma\n",
        "                z_low = (state_space[j] - rho*state_space[i] - d/2) / sigma\n",
        "                transition_matrix[i, j] = norm.cdf(z_high) - norm.cdf(z_low)\n",
        "\n",
        "    return transition_matrix, state_space\n"
      ]
    },
    {
      "cell_type": "code",
      "source": [
        "NH = 2\n",
        "NA = 401\n",
        "a_l = 0.0\n",
        "a_u = 20.0\n",
        "\n",
        "\n",
        "\n",
        "rho = 0.6\n",
        "alpha = 0.25\n",
        "delta = 0.03\n",
        "sigma = 1.50\n",
        "beta = 0.98\n",
        "\n",
        "sigma_eps = np.sqrt(0.6*(1-rho**2))\n",
        "\n",
        "pi, h = tauchen(NH, -0.7, rho, sigma_eps)\n",
        "\n",
        "h = np.exp(h)\n",
        "\n",
        "\n",
        "\n",
        "probst = np.ones((NH))/NH\n",
        "\n",
        "probst_new = np.zeros((NH))\n",
        "\n",
        "test = 10\n",
        "\n",
        "while test >0.0000001:\n",
        "    probst_new = np.zeros((NH))\n",
        "    for j in range(NH):\n",
        "        for jplus in range(NH):\n",
        "            probst_new[jplus] += pi[j, jplus]*probst[j]\n",
        "    test = np.max(np.abs(probst_new - probst))\n",
        "    probst = probst_new\n",
        "\n",
        "HH = np.sum(h*probst)\n",
        "\n"
      ],
      "metadata": {
        "id": "KyuBtl12ouAr"
      },
      "execution_count": 6,
      "outputs": []
    },
    {
      "cell_type": "code",
      "source": [
        "KK = 10.0\n",
        "\n",
        "w = (1-alpha)*KK**(alpha) * HH**(-alpha)\n",
        "r = alpha*KK**(alpha-1) * HH**(1-alpha) - delta\n",
        "\n",
        "a = np.linspace(a_l, a_u, NA)\n",
        "\n",
        "util = np.full((NA, NA, NH), -10000.0)\n",
        "\n",
        "for ia in range(NA):\n",
        "    for ih in range(NH):\n",
        "        for iap in range(NA):\n",
        "            cons = w*h[ih] + (1.0 + r)*a[ia] - a[iap]\n",
        "            if cons>0:\n",
        "                util[iap, ia, ih] = cons**(1.0-sigma)/(1.0-sigma)\n",
        "\n",
        "v = np.zeros((NA, NH))\n",
        "v_new = np.zeros((NA, NH))\n",
        "iaplus = np.full((NA, NH), -10000)\n",
        "iaplus_new = np.full((NA, NH), -10000)\n",
        "\n",
        "test = 10\n",
        "reward = np.zeros((NA, NA, NH))\n",
        "\n",
        "while test != 0:\n",
        "    for ia in range(NA):\n",
        "        for ih in range(NH):\n",
        "            reward[:, ia, ih] = util[:, ia, ih]\n",
        "            for ihp in range(NH):\n",
        "                reward[:, ia, ih] += beta*pi[ih, ihp]*v[:, ihp]\n",
        "\n",
        "    for ia in range(NA):\n",
        "        for ih in range(NH):\n",
        "            v_new[ia, ih] = np.max(reward[:, ia, ih])\n",
        "            iaplus_new[ia, ih] = np.argmax(reward[:, ia, ih])\n",
        "\n",
        "    test = np.max(iaplus_new - iaplus)\n",
        "    v = v_new\n",
        "    iaplus = iaplus_new.copy()\n",
        "\n",
        "aplus = a[iaplus]\n"
      ],
      "metadata": {
        "id": "KwbKwvevo04k"
      },
      "execution_count": null,
      "outputs": []
    },
    {
      "cell_type": "code",
      "source": [
        "util[:, 1, 1]"
      ],
      "metadata": {
        "id": "JZNpe4pDo57F"
      },
      "execution_count": null,
      "outputs": []
    },
    {
      "cell_type": "code",
      "source": [],
      "metadata": {
        "id": "h45w8m_WjpSl"
      },
      "execution_count": null,
      "outputs": []
    },
    {
      "cell_type": "code",
      "source": [],
      "metadata": {
        "id": "TivhW6f-jpBm"
      },
      "execution_count": null,
      "outputs": []
    }
  ]
}