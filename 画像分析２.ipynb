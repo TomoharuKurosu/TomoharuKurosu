{
  "nbformat": 4,
  "nbformat_minor": 0,
  "metadata": {
    "colab": {
      "provenance": [],
      "authorship_tag": "ABX9TyMtnm1b6hFSg9iGY3gU5uft",
      "include_colab_link": true
    },
    "kernelspec": {
      "name": "python3",
      "display_name": "Python 3"
    },
    "language_info": {
      "name": "python"
    }
  },
  "cells": [
    {
      "cell_type": "markdown",
      "metadata": {
        "id": "view-in-github",
        "colab_type": "text"
      },
      "source": [
        "<a href=\"https://colab.research.google.com/github/TomoharuKurosu/TomoharuKurosu/blob/main/%E7%94%BB%E5%83%8F%E5%88%86%E6%9E%90%EF%BC%92.ipynb\" target=\"_parent\"><img src=\"https://colab.research.google.com/assets/colab-badge.svg\" alt=\"Open In Colab\"/></a>"
      ]
    },
    {
      "cell_type": "code",
      "execution_count": null,
      "metadata": {
        "id": "IGRfVqZ3rGW_"
      },
      "outputs": [],
      "source": [
        "import matplotlib.pyplot as plt\n",
        "import glob\n",
        "import cv2\n",
        "import pandas as pd\n",
        "import numpy as np\n",
        "from sklearn.model_selection import train_test_split\n",
        "import tensorflow as tf\n",
        "from tensorflow import keras\n",
        "from tensorflow.keras import layers, models\n",
        "from tensorflow.keras.utils import to_categorical\n",
        "\n",
        "#データ準備\n",
        "files = glob.glob(\"自分のディレクトリ/*.jpg\")\n",
        "files = sorted(files)\n",
        "df_label = pd.read_csv(\"自分のディレクトリ/train.csv\")\n",
        "\n",
        "file_list = []\n",
        "for file in files:\n",
        "  file = cv2.imread(file)\n",
        "  file_list.append(file)\n",
        "\n",
        "#画素値を正規化\n",
        "file_list = [file.astype(float)/255 for file in file_list]\n",
        "train_x, valid_x, train_y, valid_y = train_test_split(file_list, df_label, test_size=0.2)\n",
        "\n",
        "# train_y, valid_y をダミー変数化\n",
        "train_y = to_categorical(train_y[\"gender_status\"])\n",
        "valid_y = to_categorical(valid_y[\"gender_status\"])\n",
        "\n",
        "# リスト型を配列型に\n",
        "train_x = np.array(train_x)\n",
        "valid_x = np.array(valid_x)\n",
        "\n",
        "#層の定義\n",
        "model = models.Sequential()\n",
        "model.add(layers.Conv2D(32, (3, 3), activation='relu', input_shape=(256, 256, 3)))\n",
        "model.add(layers.MaxPooling2D((2, 2)))\n",
        "model.add(layers.Conv2D(64, (3, 3), activation='relu'))\n",
        "model.add(layers.MaxPooling2D((2, 2)))\n",
        "model.add(layers.Conv2D(64, (3, 3), activation='relu'))\n",
        "model.add(layers.Flatten())\n",
        "model.add(layers.Dense(64, activation='relu'))\n",
        "model.add(layers.Dense(8, activation='softmax'))\n",
        "\n",
        "# モデルを構築\n",
        "model.compile(optimizer=tf.optimizers.Adam(0.01), loss='categorical_crossentropy', metrics=['accuracy'])\n",
        "\n",
        "# Early stoppingを適用してフィッティング\n",
        "log = model.fit(train_x, train_y, epochs=100, batch_size=10, verbose=True,\n",
        "                callbacks=[keras.callbacks.EarlyStopping(monitor='val_loss',\n",
        "                                                     min_delta=0, patience=10,\n",
        "                                                         verbose=1)],\n",
        "                validation_data=(valid_x, valid_y))"
      ]
    }
  ]
}