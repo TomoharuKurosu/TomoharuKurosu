{
  "nbformat": 4,
  "nbformat_minor": 0,
  "metadata": {
    "colab": {
      "provenance": [],
      "authorship_tag": "ABX9TyPnlxzgYXhZIlwX2mc9jfGP",
      "include_colab_link": true
    },
    "kernelspec": {
      "name": "python3",
      "display_name": "Python 3"
    },
    "language_info": {
      "name": "python"
    }
  },
  "cells": [
    {
      "cell_type": "markdown",
      "metadata": {
        "id": "view-in-github",
        "colab_type": "text"
      },
      "source": [
        "<a href=\"https://colab.research.google.com/github/TomoharuKurosu/TomoharuKurosu/blob/main/URL%E3%81%8B%E3%82%89CSV%E3%81%AE%E4%BD%9C%E6%88%90.ipynb\" target=\"_parent\"><img src=\"https://colab.research.google.com/assets/colab-badge.svg\" alt=\"Open In Colab\"/></a>"
      ]
    },
    {
      "cell_type": "code",
      "execution_count": 3,
      "metadata": {
        "id": "8e5QgAvHBx1h"
      },
      "outputs": [],
      "source": [
        "import urllib.request\n",
        "from bs4 import BeautifulSoup\n",
        "\n",
        "#---------------------------------------------------------\n",
        "# 過去の気象データのページにアクセスする\n",
        "url = f\"<https://www.data.jma.go.jp/obd/stats/etrn/view/annually_s.php?prec_no=62&block_no=47772&year=&month=&day=&view=p1>\"\n",
        "html = urllib.request.urlopen(url).read()\n",
        "\n",
        "# BeautifulSoupでHTMLを解析\n",
        "soup = BeautifulSoup(html, \"html.parser\")\n",
        "\n",
        "# 空リストを用意\n",
        "year = [] # 西暦用\n",
        "annual_max_daily_prcp = [] # 年最大日降水量用\n",
        "\n",
        "#------------------\n",
        "# 指定高度面のデータ id='tablefix2'の<table>を抽出\n",
        "table = soup.find('table', id='tablefix1')\n",
        "\n",
        "# 各行を解析する\n",
        "for i , tr in enumerate(table.find_all('tr')):\n",
        "\t# 3行目以降がデータ\n",
        "\tif i >= 3:\n",
        "\t\tdata = tr.find_all('td')\n",
        "\t\tyear.append(data[0].text.strip())\n",
        "\t\tannual_max_daily_prcp.append(data[4].text.strip())\n",
        "\n",
        "#------------------\n",
        "# データの書き出し csvデータとして保存\n",
        "fout_path = f'data.csv'\n",
        "with open(fout_path, 'w') as fout:\n",
        "\t# ヘッダ\n",
        "\tfout.write(f'# downloaded from: {url}\\\\n')\n",
        "\n",
        "\tfout.write(f'year,annual maximum daily precipitation (mm)\\\\n')\n",
        "\n",
        "\t# tablefix1のデータ\n",
        "\tfor i in range(len(year)):\n",
        "\t\tfout.write(f'{year[i]},{annual_max_daily_prcp[i]}\\\\n')"
      ]
    }
  ]
}