{
  "cells": [
    {
      "cell_type": "markdown",
      "metadata": {
        "id": "view-in-github",
        "colab_type": "text"
      },
      "source": [
        "<a href=\"https://colab.research.google.com/github/TomoharuKurosu/TomoharuKurosu/blob/main/growth_comp_2023.ipynb\" target=\"_parent\"><img src=\"https://colab.research.google.com/assets/colab-badge.svg\" alt=\"Open In Colab\"/></a>"
      ]
    },
    {
      "cell_type": "code",
      "execution_count": 4,
      "metadata": {
        "colab": {
          "base_uri": "https://localhost:8080/"
        },
        "id": "7xY0PSws21Ex",
        "outputId": "c5576035-5e2d-47cc-8be3-96b4dac46913"
      },
      "outputs": [
        {
          "output_type": "stream",
          "name": "stdout",
          "text": [
            "                    y     labsh        AA         k         a  Growth Rate  \\\n",
            "countrycode                                                                  \n",
            "CAN          0.744709  0.615643 -0.786829  1.399592  0.384357     0.744709   \n",
            "DEU          0.689737  0.625118 -2.591309  1.099346  0.374882     0.689737   \n",
            "FRA          0.818749  0.621001  0.949124  1.400636  0.378999     0.818749   \n",
            "GBR          1.104174  0.620237  1.934368  0.685596  0.379763     1.104174   \n",
            "ITA          0.043478  0.529206 -0.567753  1.322566  0.470794     0.043478   \n",
            "JPN          0.909459  0.620112 -4.334671  2.452127  0.379888     0.909459   \n",
            "USA          1.589208  0.616466  0.343034  1.571761  0.383534     1.589208   \n",
            "\n",
            "             Capital Share  TFP Share  TFP Growth  Capital Deepening  \n",
            "countrycode                                                           \n",
            "CAN               0.384357   0.615643   -0.786829           1.399592  \n",
            "DEU               0.374882   0.625118   -2.591309           1.099346  \n",
            "FRA               0.378999   0.621001    0.949124           1.400636  \n",
            "GBR               0.379763   0.620237    1.934368           0.685596  \n",
            "ITA               0.470794   0.529206   -0.567753           1.322566  \n",
            "JPN               0.379888   0.620112   -4.334671           2.452127  \n",
            "USA               0.383534   0.616466    0.343034           1.571761  \n"
          ]
        }
      ],
      "source": [
        "import pandas as pd\n",
        "import numpy as np\n",
        "\n",
        "\n",
        "# Load data\n",
        "pwt90 = pd.read_stata('https://www.rug.nl/ggdc/docs/pwt90.dta')\n",
        "pwt1001 = pd.read_stata('https://dataverse.nl/api/access/datafile/354098')\n",
        "\n",
        "# Filter and select relevant columns\n",
        "data = pwt90.loc[pwt90['country'].isin([\"France\", \"Germany\", \"Canada\", \"Italy\", \"Japan\", \"United Kingdom\", \"United States\"])][['year', 'countrycode', 'rgdpna', 'rkna', 'emp', 'labsh']]\n",
        "data = data.loc[(data['year'] >= 1995) & (data['year'] <= 2019)].dropna()\n",
        "\n",
        "# Calculate additional columns\n",
        "data['y_pc'] = np.log(data['rgdpna'] / data['emp'])  # GDP per worker\n",
        "data['k_pc'] = np.log(data['rkna'] / data['emp'])  # Capital per worker\n",
        "data['a'] = 1 - data['labsh']  # Capital share\n",
        "data['A'] = data['y_pc'] - data['k_pc']*data['a']\n",
        "\n",
        "# Order by year\n",
        "data = data.sort_values('year')\n",
        "\n",
        "# Group by isocode\n",
        "grouped_data = data.groupby('countrycode')\n",
        "\n",
        "# Calculate growth rates and Solow residual\n",
        "data['y'] = (grouped_data['y_pc'].diff() * 100)  # Growth rate of GDP per capita\n",
        "data['k'] = (grouped_data['k_pc'].diff() * 100)  # Growth rate of GDP per capita\n",
        "data['AA'] = (grouped_data['A'].diff() * 100)  # Growth rate of GDP per capita\n",
        "\n",
        "\n",
        "# Remove missing values\n",
        "data = data.dropna()\n",
        "\n",
        "# Calculate summary statistics\n",
        "summary = data.groupby('countrycode').agg({'y': 'mean',\n",
        "                                           'labsh': 'mean',\n",
        "                                           'AA': 'mean',\n",
        "                                           'k': 'mean',\n",
        "                                       'a': \"mean\"}\n",
        "                                       )\n",
        "\n",
        "# Calculate additional summary statistics\n",
        "summary['Growth Rate'] = summary['y']\n",
        "summary['Capital Share'] = summary['a']\n",
        "summary['TFP Share'] = summary['labsh']\n",
        "summary['TFP Growth'] = summary['AA']\n",
        "summary['Capital Deepening'] = summary['k']\n",
        "\n",
        "# Print output\n",
        "print(summary)"
      ]
    }
  ],
  "metadata": {
    "colab": {
      "provenance": [],
      "include_colab_link": true
    },
    "kernelspec": {
      "display_name": "Python 3",
      "name": "python3"
    },
    "language_info": {
      "name": "python"
    }
  },
  "nbformat": 4,
  "nbformat_minor": 0
}