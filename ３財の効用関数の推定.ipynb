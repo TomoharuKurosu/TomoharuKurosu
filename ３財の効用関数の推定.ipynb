{
  "nbformat": 4,
  "nbformat_minor": 0,
  "metadata": {
    "colab": {
      "provenance": [],
      "authorship_tag": "ABX9TyNvBAkvnR2FeDD9xbSNZn27",
      "include_colab_link": true
    },
    "kernelspec": {
      "name": "python3",
      "display_name": "Python 3"
    },
    "language_info": {
      "name": "python"
    }
  },
  "cells": [
    {
      "cell_type": "markdown",
      "metadata": {
        "id": "view-in-github",
        "colab_type": "text"
      },
      "source": [
        "<a href=\"https://colab.research.google.com/github/TomoharuKurosu/TomoharuKurosu/blob/main/%EF%BC%93%E8%B2%A1%E3%81%AE%E5%8A%B9%E7%94%A8%E9%96%A2%E6%95%B0%E3%81%AE%E6%8E%A8%E5%AE%9A.ipynb\" target=\"_parent\"><img src=\"https://colab.research.google.com/assets/colab-badge.svg\" alt=\"Open In Colab\"/></a>"
      ]
    },
    {
      "cell_type": "code",
      "execution_count": null,
      "metadata": {
        "id": "qr-w2pMSqFxe"
      },
      "outputs": [],
      "source": [
        "import numpy as np\n",
        "from scipy.optimize import minimize\n",
        "\n",
        "# 定数の値\n",
        "a = 0.001\n",
        "b = 0.135\n",
        "c = 0.681\n",
        "w = 1.625\n",
        "\n",
        "# 制約式\n",
        "def constraint(Y):\n",
        "    return Y[0] + Y[1] - 367.666666666666666666666666666666666666666666\n",
        "\n",
        "# 目的関数（最大化対象）\n",
        "def objective(Y):\n",
        "    U = (a * Y[0]**((c-1)/c) + b * Y[1]**((c-1)/c) + (1-a-b) * (-Y[0]/w + 730 - Y[1]/w)**((c-1)/c))**(c/(c-1))\n",
        "    return -U  # U を最大化するために符号を反転させる\n",
        "\n",
        "# 初期値の設定\n",
        "initial_guess = [183.833333333333333333333333333333333333333333, 183.833333333333333333333333333333333333333333]\n",
        "\n",
        "# 最適化の実行\n",
        "constraints = {'type': 'eq', 'fun': constraint}\n",
        "result = minimize(objective, initial_guess, constraints=constraints)\n",
        "\n",
        "# 結果表示\n",
        "optimal_Y1 = result.x[0]\n",
        "optimal_Y2 = result.x[1]\n",
        "optimal_U = -result.fun  # 最大化された U\n",
        "\n",
        "print(\"Optimal Y1:\", optimal_Y1)\n",
        "print(\"Optimal Y2:\", optimal_Y2)\n",
        "print(\"Maximized U:\", optimal_U)\n"
      ]
    }
  ]
}