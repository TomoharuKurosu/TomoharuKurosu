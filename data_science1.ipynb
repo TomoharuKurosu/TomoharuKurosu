{
  "nbformat": 4,
  "nbformat_minor": 0,
  "metadata": {
    "colab": {
      "provenance": [],
      "authorship_tag": "ABX9TyP7mQpLG57HfS5kUdgWwDhC",
      "include_colab_link": true
    },
    "kernelspec": {
      "name": "python3",
      "display_name": "Python 3"
    },
    "language_info": {
      "name": "python"
    }
  },
  "cells": [
    {
      "cell_type": "markdown",
      "metadata": {
        "id": "view-in-github",
        "colab_type": "text"
      },
      "source": [
        "<a href=\"https://colab.research.google.com/github/TomoharuKurosu/TomoharuKurosu/blob/main/data_science1.ipynb\" target=\"_parent\"><img src=\"https://colab.research.google.com/assets/colab-badge.svg\" alt=\"Open In Colab\"/></a>"
      ]
    },
    {
      "cell_type": "code",
      "execution_count": null,
      "metadata": {
        "id": "e-RdJz6hUmrX"
      },
      "outputs": [],
      "source": [
        "import pandas as pd\n",
        "from sklearn.model_selection import train_test_split\n",
        "import lightgbm as lgb\n",
        "from sklearn.metrics import accuracy_score\n",
        "\n",
        "data = pd.read_csv('data.csv')  # ファイル名は適切なものに変更してください\n",
        "print(data.head())  # データの先頭を確認\n",
        "\n",
        "X = data[['x', 'y', 'z']]  # 特徴量\n",
        "y = data['investment_decision']  # ラベル\n",
        "\n",
        "#トレーニングデータとテストデータに分割します。\n",
        "X_train, X_test, y_train, y_test = train_test_split(X, y, test_size=0.2, random_state=42)  # テストサイズやランダムステートは適宜変更してください\n",
        "\n",
        "#lightGBMモデルを構築し、学習させます。\n",
        "lgb_train = lgb.Dataset(X_train, y_train)\n",
        "lgb_eval = lgb.Dataset(X_test, y_test, reference=lgb_train)\n",
        "\n",
        "params = {\n",
        "    'objective': 'binary',\n",
        "    'metric': 'binary_logloss',\n",
        "    'verbosity': -1,\n",
        "}\n",
        "\n",
        "gbm = lgb.train(params,\n",
        "                lgb_train,\n",
        "                num_boost_round=100,\n",
        "                valid_sets=(lgb_train, lgb_eval),\n",
        "                early_stopping_rounds=20)\n",
        "#予測を行い、精度を評価します。\n",
        "y_pred = gbm.predict(X_test, num_iteration=gbm.best_iteration)\n",
        "y_pred_binary = [round(x) for x in y_pred]  # しきい値0.5で二値化\n",
        "\n",
        "accuracy = accuracy_score(y_test, y_pred_binary)\n",
        "print(f'Accuracy: {accuracy}')\n",
        "#このコードは、CSVファイルからデータを読み込み、指定した特徴量を元にlightGBMを使ってモデルをトレーニングし、最終的にテストデータでの精度を評価します。ご利用の際は、データとパラメータを適切に調整してください。\n",
        "\n",
        "\n",
        "\n",
        "\n",
        "\n"
      ]
    }
  ]
}